{
 "cells": [
  {
   "cell_type": "markdown",
   "metadata": {},
   "source": [
    "## Robinhood Orders with Current Profit/Loss Calculation\n",
    "Parse robinhood orders API response, flatten to get list of all orders and enrich by adding stock symbol and name\n",
    "Calculate profit/loss by grouping by stock symbol and removing fully sold stocks"
   ]
  },
  {
   "cell_type": "code",
   "execution_count": 1,
   "metadata": {},
   "outputs": [],
   "source": [
    "import pandas as pd\n",
    "import urllib.request, json"
   ]
  },
  {
   "cell_type": "code",
   "execution_count": 2,
   "metadata": {},
   "outputs": [],
   "source": [
    "orders_raw = pd.read_json('orders_sample.json', orient='columns')\n",
    "orders_raw = orders_raw['results']"
   ]
  },
  {
   "cell_type": "code",
   "execution_count": 3,
   "metadata": {
    "scrolled": true
   },
   "outputs": [
    {
     "data": {
      "text/plain": [
       "0    {'updated_at': '2018-12-21T19:31:18.339622Z', ...\n",
       "1    {'updated_at': '2018-12-21T19:30:23.297759Z', ...\n",
       "2    {'updated_at': '2018-12-21T19:29:06.588381Z', ...\n",
       "3    {'updated_at': '2017-08-10T14:15:46.907458Z', ...\n",
       "4    {'updated_at': '2017-10-19T14:12:55.200328Z', ...\n",
       "5    {'updated_at': '2017-08-10T14:19:23.318570Z', ...\n",
       "Name: results, dtype: object"
      ]
     },
     "execution_count": 3,
     "metadata": {},
     "output_type": "execute_result"
    }
   ],
   "source": [
    "orders_raw"
   ]
  },
  {
   "cell_type": "code",
   "execution_count": 4,
   "metadata": {},
   "outputs": [
    {
     "data": {
      "text/html": [
       "<div>\n",
       "<style scoped>\n",
       "    .dataframe tbody tr th:only-of-type {\n",
       "        vertical-align: middle;\n",
       "    }\n",
       "\n",
       "    .dataframe tbody tr th {\n",
       "        vertical-align: top;\n",
       "    }\n",
       "\n",
       "    .dataframe thead th {\n",
       "        text-align: right;\n",
       "    }\n",
       "</style>\n",
       "<table border=\"1\" class=\"dataframe\">\n",
       "  <thead>\n",
       "    <tr style=\"text-align: right;\">\n",
       "      <th></th>\n",
       "      <th>id</th>\n",
       "      <th>price</th>\n",
       "      <th>quantity</th>\n",
       "      <th>settlement_date</th>\n",
       "      <th>timestamp</th>\n",
       "      <th>instrument</th>\n",
       "      <th>side</th>\n",
       "    </tr>\n",
       "  </thead>\n",
       "  <tbody>\n",
       "    <tr>\n",
       "      <th>0</th>\n",
       "      <td>12d7sfc5-4f40-4c02-be91-fc5260765af7</td>\n",
       "      <td>149.19990000</td>\n",
       "      <td>10.00000</td>\n",
       "      <td>2018-12-26</td>\n",
       "      <td>2018-12-21T19:31:18.099000Z</td>\n",
       "      <td>https://api.robinhood.com/instruments/1790dd4f...</td>\n",
       "      <td>buy</td>\n",
       "    </tr>\n",
       "    <tr>\n",
       "      <th>1</th>\n",
       "      <td>6d3f9f83-c62d-4da1-8321-40804bc4cc3a</td>\n",
       "      <td>75.46000000</td>\n",
       "      <td>15.00000</td>\n",
       "      <td>2018-12-26</td>\n",
       "      <td>2018-12-21T19:30:23.072000Z</td>\n",
       "      <td>https://api.robinhood.com/instruments/e6a6e495...</td>\n",
       "      <td>buy</td>\n",
       "    </tr>\n",
       "    <tr>\n",
       "      <th>2</th>\n",
       "      <td>87426fee-234b-4760-b50c-8539a8b58464</td>\n",
       "      <td>106.77720000</td>\n",
       "      <td>10.00000</td>\n",
       "      <td>2018-12-26</td>\n",
       "      <td>2018-12-21T19:29:06.327000Z</td>\n",
       "      <td>https://api.robinhood.com/instruments/7fcf5e7b...</td>\n",
       "      <td>buy</td>\n",
       "    </tr>\n",
       "    <tr>\n",
       "      <th>3</th>\n",
       "      <td>e39b50f4-3aea-4235-8459-ff082a5af70d</td>\n",
       "      <td>142.42000000</td>\n",
       "      <td>15.00000</td>\n",
       "      <td>2017-08-15</td>\n",
       "      <td>2017-08-10T14:15:40.820000Z</td>\n",
       "      <td>https://api.robinhood.com/instruments/1790dd4f...</td>\n",
       "      <td>buy</td>\n",
       "    </tr>\n",
       "    <tr>\n",
       "      <th>4</th>\n",
       "      <td>65695025-251b-43d9-8aaf-bbd899a4623e</td>\n",
       "      <td>26.31100000</td>\n",
       "      <td>75.00000</td>\n",
       "      <td>2017-10-23</td>\n",
       "      <td>2017-10-19T14:12:55.165000Z</td>\n",
       "      <td>https://api.robinhood.com/instruments/0dd811b3...</td>\n",
       "      <td>sell</td>\n",
       "    </tr>\n",
       "    <tr>\n",
       "      <th>5</th>\n",
       "      <td>3f5d00e3-3295-43f9-bbc6-2f053164901f</td>\n",
       "      <td>24.39900000</td>\n",
       "      <td>75.00000</td>\n",
       "      <td>2017-08-15</td>\n",
       "      <td>2017-08-10T14:19:23.285000Z</td>\n",
       "      <td>https://api.robinhood.com/instruments/0dd811b3...</td>\n",
       "      <td>buy</td>\n",
       "    </tr>\n",
       "  </tbody>\n",
       "</table>\n",
       "</div>"
      ],
      "text/plain": [
       "                                     id         price  quantity  \\\n",
       "0  12d7sfc5-4f40-4c02-be91-fc5260765af7  149.19990000  10.00000   \n",
       "1  6d3f9f83-c62d-4da1-8321-40804bc4cc3a   75.46000000  15.00000   \n",
       "2  87426fee-234b-4760-b50c-8539a8b58464  106.77720000  10.00000   \n",
       "3  e39b50f4-3aea-4235-8459-ff082a5af70d  142.42000000  15.00000   \n",
       "4  65695025-251b-43d9-8aaf-bbd899a4623e   26.31100000  75.00000   \n",
       "5  3f5d00e3-3295-43f9-bbc6-2f053164901f   24.39900000  75.00000   \n",
       "\n",
       "  settlement_date                    timestamp  \\\n",
       "0      2018-12-26  2018-12-21T19:31:18.099000Z   \n",
       "1      2018-12-26  2018-12-21T19:30:23.072000Z   \n",
       "2      2018-12-26  2018-12-21T19:29:06.327000Z   \n",
       "3      2017-08-15  2017-08-10T14:15:40.820000Z   \n",
       "4      2017-10-23  2017-10-19T14:12:55.165000Z   \n",
       "5      2017-08-15  2017-08-10T14:19:23.285000Z   \n",
       "\n",
       "                                          instrument  side  \n",
       "0  https://api.robinhood.com/instruments/1790dd4f...   buy  \n",
       "1  https://api.robinhood.com/instruments/e6a6e495...   buy  \n",
       "2  https://api.robinhood.com/instruments/7fcf5e7b...   buy  \n",
       "3  https://api.robinhood.com/instruments/1790dd4f...   buy  \n",
       "4  https://api.robinhood.com/instruments/0dd811b3...  sell  \n",
       "5  https://api.robinhood.com/instruments/0dd811b3...   buy  "
      ]
     },
     "execution_count": 4,
     "metadata": {},
     "output_type": "execute_result"
    }
   ],
   "source": [
    "orders_normalize = pd.io.json.json_normalize(orders_raw, record_path=['executions'], \n",
    "                                        meta=['instrument', 'side'], \n",
    "                                        sep='_')\n",
    "orders_normalize"
   ]
  },
  {
   "cell_type": "markdown",
   "metadata": {},
   "source": [
    "### Get instrument name and symbol by querying instrument API & Current quote"
   ]
  },
  {
   "cell_type": "code",
   "execution_count": 5,
   "metadata": {
    "scrolled": true
   },
   "outputs": [
    {
     "data": {
      "text/html": [
       "<div>\n",
       "<style scoped>\n",
       "    .dataframe tbody tr th:only-of-type {\n",
       "        vertical-align: middle;\n",
       "    }\n",
       "\n",
       "    .dataframe tbody tr th {\n",
       "        vertical-align: top;\n",
       "    }\n",
       "\n",
       "    .dataframe thead th {\n",
       "        text-align: right;\n",
       "    }\n",
       "</style>\n",
       "<table border=\"1\" class=\"dataframe\">\n",
       "  <thead>\n",
       "    <tr style=\"text-align: right;\">\n",
       "      <th></th>\n",
       "      <th>instrument</th>\n",
       "    </tr>\n",
       "  </thead>\n",
       "  <tbody>\n",
       "    <tr>\n",
       "      <th>0</th>\n",
       "      <td>https://api.robinhood.com/instruments/1790dd4f...</td>\n",
       "    </tr>\n",
       "    <tr>\n",
       "      <th>1</th>\n",
       "      <td>https://api.robinhood.com/instruments/e6a6e495...</td>\n",
       "    </tr>\n",
       "    <tr>\n",
       "      <th>2</th>\n",
       "      <td>https://api.robinhood.com/instruments/7fcf5e7b...</td>\n",
       "    </tr>\n",
       "    <tr>\n",
       "      <th>3</th>\n",
       "      <td>https://api.robinhood.com/instruments/0dd811b3...</td>\n",
       "    </tr>\n",
       "  </tbody>\n",
       "</table>\n",
       "</div>"
      ],
      "text/plain": [
       "                                          instrument\n",
       "0  https://api.robinhood.com/instruments/1790dd4f...\n",
       "1  https://api.robinhood.com/instruments/e6a6e495...\n",
       "2  https://api.robinhood.com/instruments/7fcf5e7b...\n",
       "3  https://api.robinhood.com/instruments/0dd811b3..."
      ]
     },
     "execution_count": 5,
     "metadata": {},
     "output_type": "execute_result"
    }
   ],
   "source": [
    "unique_instruments = pd.DataFrame(orders_normalize['instrument'].unique(), columns=['instrument'])\n",
    "unique_instruments"
   ]
  },
  {
   "cell_type": "code",
   "execution_count": 6,
   "metadata": {},
   "outputs": [],
   "source": [
    "def get_instrument_name(instrument_url):\n",
    "    with urllib.request.urlopen(instrument_url) as url:\n",
    "        data = json.loads(url.read().decode())\n",
    "        return data['simple_name'], data['symbol']"
   ]
  },
  {
   "cell_type": "code",
   "execution_count": 7,
   "metadata": {},
   "outputs": [],
   "source": [
    "def get_current_quote(symbol):\n",
    "    with urllib.request.urlopen('https://api.robinhood.com/quotes/'+symbol+'/') as url:\n",
    "        data = json.loads(url.read().decode())\n",
    "        return data['last_trade_price']"
   ]
  },
  {
   "cell_type": "code",
   "execution_count": 8,
   "metadata": {
    "scrolled": true
   },
   "outputs": [
    {
     "data": {
      "text/html": [
       "<div>\n",
       "<style scoped>\n",
       "    .dataframe tbody tr th:only-of-type {\n",
       "        vertical-align: middle;\n",
       "    }\n",
       "\n",
       "    .dataframe tbody tr th {\n",
       "        vertical-align: top;\n",
       "    }\n",
       "\n",
       "    .dataframe thead th {\n",
       "        text-align: right;\n",
       "    }\n",
       "</style>\n",
       "<table border=\"1\" class=\"dataframe\">\n",
       "  <thead>\n",
       "    <tr style=\"text-align: right;\">\n",
       "      <th></th>\n",
       "      <th>instrument</th>\n",
       "      <th>name</th>\n",
       "      <th>symbol</th>\n",
       "    </tr>\n",
       "  </thead>\n",
       "  <tbody>\n",
       "    <tr>\n",
       "      <th>0</th>\n",
       "      <td>https://api.robinhood.com/instruments/1790dd4f...</td>\n",
       "      <td>PowerShares QQQ</td>\n",
       "      <td>QQQ</td>\n",
       "    </tr>\n",
       "    <tr>\n",
       "      <th>1</th>\n",
       "      <td>https://api.robinhood.com/instruments/e6a6e495...</td>\n",
       "      <td>Vanguard US REIT fund</td>\n",
       "      <td>VNQ</td>\n",
       "    </tr>\n",
       "    <tr>\n",
       "      <th>2</th>\n",
       "      <td>https://api.robinhood.com/instruments/7fcf5e7b...</td>\n",
       "      <td>Digital Realty Trust</td>\n",
       "      <td>DLR</td>\n",
       "    </tr>\n",
       "    <tr>\n",
       "      <th>3</th>\n",
       "      <td>https://api.robinhood.com/instruments/0dd811b3...</td>\n",
       "      <td>Bank of America</td>\n",
       "      <td>BAC</td>\n",
       "    </tr>\n",
       "  </tbody>\n",
       "</table>\n",
       "</div>"
      ],
      "text/plain": [
       "                                          instrument                   name  \\\n",
       "0  https://api.robinhood.com/instruments/1790dd4f...        PowerShares QQQ   \n",
       "1  https://api.robinhood.com/instruments/e6a6e495...  Vanguard US REIT fund   \n",
       "2  https://api.robinhood.com/instruments/7fcf5e7b...   Digital Realty Trust   \n",
       "3  https://api.robinhood.com/instruments/0dd811b3...        Bank of America   \n",
       "\n",
       "  symbol  \n",
       "0    QQQ  \n",
       "1    VNQ  \n",
       "2    DLR  \n",
       "3    BAC  "
      ]
     },
     "execution_count": 8,
     "metadata": {},
     "output_type": "execute_result"
    }
   ],
   "source": [
    "unique_instruments[['name', 'symbol']] = unique_instruments.apply(lambda x:get_instrument_name(x['instrument']), axis=1, result_type=\"expand\")\n",
    "unique_instruments"
   ]
  },
  {
   "cell_type": "code",
   "execution_count": 9,
   "metadata": {
    "scrolled": true
   },
   "outputs": [
    {
     "data": {
      "text/html": [
       "<div>\n",
       "<style scoped>\n",
       "    .dataframe tbody tr th:only-of-type {\n",
       "        vertical-align: middle;\n",
       "    }\n",
       "\n",
       "    .dataframe tbody tr th {\n",
       "        vertical-align: top;\n",
       "    }\n",
       "\n",
       "    .dataframe thead th {\n",
       "        text-align: right;\n",
       "    }\n",
       "</style>\n",
       "<table border=\"1\" class=\"dataframe\">\n",
       "  <thead>\n",
       "    <tr style=\"text-align: right;\">\n",
       "      <th></th>\n",
       "      <th>instrument</th>\n",
       "      <th>name</th>\n",
       "      <th>symbol</th>\n",
       "      <th>current_price</th>\n",
       "    </tr>\n",
       "  </thead>\n",
       "  <tbody>\n",
       "    <tr>\n",
       "      <th>0</th>\n",
       "      <td>https://api.robinhood.com/instruments/1790dd4f...</td>\n",
       "      <td>PowerShares QQQ</td>\n",
       "      <td>QQQ</td>\n",
       "      <td>143.500000</td>\n",
       "    </tr>\n",
       "    <tr>\n",
       "      <th>1</th>\n",
       "      <td>https://api.robinhood.com/instruments/e6a6e495...</td>\n",
       "      <td>Vanguard US REIT fund</td>\n",
       "      <td>VNQ</td>\n",
       "      <td>71.740000</td>\n",
       "    </tr>\n",
       "    <tr>\n",
       "      <th>2</th>\n",
       "      <td>https://api.robinhood.com/instruments/7fcf5e7b...</td>\n",
       "      <td>Digital Realty Trust</td>\n",
       "      <td>DLR</td>\n",
       "      <td>102.410000</td>\n",
       "    </tr>\n",
       "    <tr>\n",
       "      <th>3</th>\n",
       "      <td>https://api.robinhood.com/instruments/0dd811b3...</td>\n",
       "      <td>Bank of America</td>\n",
       "      <td>BAC</td>\n",
       "      <td>22.730000</td>\n",
       "    </tr>\n",
       "  </tbody>\n",
       "</table>\n",
       "</div>"
      ],
      "text/plain": [
       "                                          instrument                   name  \\\n",
       "0  https://api.robinhood.com/instruments/1790dd4f...        PowerShares QQQ   \n",
       "1  https://api.robinhood.com/instruments/e6a6e495...  Vanguard US REIT fund   \n",
       "2  https://api.robinhood.com/instruments/7fcf5e7b...   Digital Realty Trust   \n",
       "3  https://api.robinhood.com/instruments/0dd811b3...        Bank of America   \n",
       "\n",
       "  symbol current_price  \n",
       "0    QQQ    143.500000  \n",
       "1    VNQ     71.740000  \n",
       "2    DLR    102.410000  \n",
       "3    BAC     22.730000  "
      ]
     },
     "execution_count": 9,
     "metadata": {},
     "output_type": "execute_result"
    }
   ],
   "source": [
    "unique_instruments['current_price'] = unique_instruments.apply(lambda x:get_current_quote(x['symbol']), axis=1, result_type=\"expand\")\n",
    "unique_instruments"
   ]
  },
  {
   "cell_type": "markdown",
   "metadata": {},
   "source": [
    "### All orders along with name & symbol"
   ]
  },
  {
   "cell_type": "code",
   "execution_count": 10,
   "metadata": {
    "scrolled": true
   },
   "outputs": [
    {
     "data": {
      "text/html": [
       "<div>\n",
       "<style scoped>\n",
       "    .dataframe tbody tr th:only-of-type {\n",
       "        vertical-align: middle;\n",
       "    }\n",
       "\n",
       "    .dataframe tbody tr th {\n",
       "        vertical-align: top;\n",
       "    }\n",
       "\n",
       "    .dataframe thead th {\n",
       "        text-align: right;\n",
       "    }\n",
       "</style>\n",
       "<table border=\"1\" class=\"dataframe\">\n",
       "  <thead>\n",
       "    <tr style=\"text-align: right;\">\n",
       "      <th></th>\n",
       "      <th>symbol</th>\n",
       "      <th>name</th>\n",
       "      <th>price</th>\n",
       "      <th>quantity</th>\n",
       "      <th>side</th>\n",
       "      <th>purchase_date</th>\n",
       "      <th>settlement_date</th>\n",
       "      <th>current_price</th>\n",
       "    </tr>\n",
       "  </thead>\n",
       "  <tbody>\n",
       "    <tr>\n",
       "      <th>0</th>\n",
       "      <td>QQQ</td>\n",
       "      <td>PowerShares QQQ</td>\n",
       "      <td>149.19990000</td>\n",
       "      <td>10.00000</td>\n",
       "      <td>buy</td>\n",
       "      <td>2018-12-21 19:31</td>\n",
       "      <td>2018-12-26</td>\n",
       "      <td>143.500000</td>\n",
       "    </tr>\n",
       "    <tr>\n",
       "      <th>1</th>\n",
       "      <td>QQQ</td>\n",
       "      <td>PowerShares QQQ</td>\n",
       "      <td>142.42000000</td>\n",
       "      <td>15.00000</td>\n",
       "      <td>buy</td>\n",
       "      <td>2017-08-10 14:15</td>\n",
       "      <td>2017-08-15</td>\n",
       "      <td>143.500000</td>\n",
       "    </tr>\n",
       "    <tr>\n",
       "      <th>2</th>\n",
       "      <td>VNQ</td>\n",
       "      <td>Vanguard US REIT fund</td>\n",
       "      <td>75.46000000</td>\n",
       "      <td>15.00000</td>\n",
       "      <td>buy</td>\n",
       "      <td>2018-12-21 19:30</td>\n",
       "      <td>2018-12-26</td>\n",
       "      <td>71.740000</td>\n",
       "    </tr>\n",
       "    <tr>\n",
       "      <th>3</th>\n",
       "      <td>DLR</td>\n",
       "      <td>Digital Realty Trust</td>\n",
       "      <td>106.77720000</td>\n",
       "      <td>10.00000</td>\n",
       "      <td>buy</td>\n",
       "      <td>2018-12-21 19:29</td>\n",
       "      <td>2018-12-26</td>\n",
       "      <td>102.410000</td>\n",
       "    </tr>\n",
       "    <tr>\n",
       "      <th>4</th>\n",
       "      <td>BAC</td>\n",
       "      <td>Bank of America</td>\n",
       "      <td>26.31100000</td>\n",
       "      <td>75.00000</td>\n",
       "      <td>sell</td>\n",
       "      <td>2017-10-19 14:12</td>\n",
       "      <td>2017-10-23</td>\n",
       "      <td>22.730000</td>\n",
       "    </tr>\n",
       "    <tr>\n",
       "      <th>5</th>\n",
       "      <td>BAC</td>\n",
       "      <td>Bank of America</td>\n",
       "      <td>24.39900000</td>\n",
       "      <td>75.00000</td>\n",
       "      <td>buy</td>\n",
       "      <td>2017-08-10 14:19</td>\n",
       "      <td>2017-08-15</td>\n",
       "      <td>22.730000</td>\n",
       "    </tr>\n",
       "  </tbody>\n",
       "</table>\n",
       "</div>"
      ],
      "text/plain": [
       "  symbol                   name         price  quantity  side  \\\n",
       "0    QQQ        PowerShares QQQ  149.19990000  10.00000   buy   \n",
       "1    QQQ        PowerShares QQQ  142.42000000  15.00000   buy   \n",
       "2    VNQ  Vanguard US REIT fund   75.46000000  15.00000   buy   \n",
       "3    DLR   Digital Realty Trust  106.77720000  10.00000   buy   \n",
       "4    BAC        Bank of America   26.31100000  75.00000  sell   \n",
       "5    BAC        Bank of America   24.39900000  75.00000   buy   \n",
       "\n",
       "      purchase_date settlement_date current_price  \n",
       "0  2018-12-21 19:31      2018-12-26    143.500000  \n",
       "1  2017-08-10 14:15      2017-08-15    143.500000  \n",
       "2  2018-12-21 19:30      2018-12-26     71.740000  \n",
       "3  2018-12-21 19:29      2018-12-26    102.410000  \n",
       "4  2017-10-19 14:12      2017-10-23     22.730000  \n",
       "5  2017-08-10 14:19      2017-08-15     22.730000  "
      ]
     },
     "execution_count": 10,
     "metadata": {},
     "output_type": "execute_result"
    }
   ],
   "source": [
    "orders = pd.merge(orders_normalize, unique_instruments, how='inner', on='instrument')\n",
    "orders = orders[['symbol','name','price','quantity','side','timestamp','settlement_date','current_price']]\n",
    "orders['timestamp'] = pd.to_datetime(orders['timestamp']).dt.strftime('%Y-%m-%d %H:%M')\n",
    "orders.rename(columns={'timestamp':'purchase_date'}, inplace=True)\n",
    "orders"
   ]
  },
  {
   "cell_type": "markdown",
   "metadata": {},
   "source": [
    "### Calculate Profit/Loss"
   ]
  },
  {
   "cell_type": "code",
   "execution_count": 11,
   "metadata": {},
   "outputs": [],
   "source": [
    "# Update quanity to negative, if side is sell\n",
    "orders['quantity'] = orders.apply(lambda x: -float(x['quantity']) if x['side']=='sell' else float(x['quantity']), axis=1)\n",
    "# Cost = Purchase cost if buy in +ve or Sell amount if sell in -ve\n",
    "orders['cost'] = orders.apply(lambda x: (float(x['quantity'])*float(x['price'])), axis=1, result_type=\"expand\")"
   ]
  },
  {
   "cell_type": "code",
   "execution_count": 12,
   "metadata": {},
   "outputs": [],
   "source": [
    "# Calculate profit from original acquisition cost and current price\n",
    "order_profit = orders.groupby('symbol').agg({'quantity':sum, 'cost':sum, 'purchase_date':'min', 'current_price':max})\n",
    "order_profit.rename(columns={'purchase_date':'early_purchase_date'}, inplace=True)\n",
    "order_profit = order_profit[order_profit.quantity >0]\n",
    "order_profit['current_equity'] = order_profit.apply(lambda x: (float(x['quantity'])*float(x['current_price'])), axis=1, result_type=\"expand\")\n",
    "order_profit['profit'] = order_profit.apply(lambda x: (float(x['current_equity'])-float(x['cost'])), axis=1, result_type=\"expand\")"
   ]
  },
  {
   "cell_type": "code",
   "execution_count": 13,
   "metadata": {},
   "outputs": [],
   "source": [
    "# Calculate Equity Ratio\n",
    "total_equity = order_profit['current_equity'].sum()\n",
    "order_profit['equity_ratio'] = order_profit.apply(lambda x: (float(x['current_equity'])/float(total_equity))*100, axis=1, result_type=\"expand\")"
   ]
  },
  {
   "cell_type": "code",
   "execution_count": 14,
   "metadata": {},
   "outputs": [
    {
     "name": "stdout",
     "output_type": "stream",
     "text": [
      "Total Equity:5687.700000000001\n"
     ]
    },
    {
     "data": {
      "text/html": [
       "<div>\n",
       "<style scoped>\n",
       "    .dataframe tbody tr th:only-of-type {\n",
       "        vertical-align: middle;\n",
       "    }\n",
       "\n",
       "    .dataframe tbody tr th {\n",
       "        vertical-align: top;\n",
       "    }\n",
       "\n",
       "    .dataframe thead th {\n",
       "        text-align: right;\n",
       "    }\n",
       "</style>\n",
       "<table border=\"1\" class=\"dataframe\">\n",
       "  <thead>\n",
       "    <tr style=\"text-align: right;\">\n",
       "      <th></th>\n",
       "      <th>quantity</th>\n",
       "      <th>cost</th>\n",
       "      <th>early_purchase_date</th>\n",
       "      <th>current_price</th>\n",
       "      <th>current_equity</th>\n",
       "      <th>profit</th>\n",
       "      <th>equity_ratio</th>\n",
       "    </tr>\n",
       "    <tr>\n",
       "      <th>symbol</th>\n",
       "      <th></th>\n",
       "      <th></th>\n",
       "      <th></th>\n",
       "      <th></th>\n",
       "      <th></th>\n",
       "      <th></th>\n",
       "      <th></th>\n",
       "    </tr>\n",
       "  </thead>\n",
       "  <tbody>\n",
       "    <tr>\n",
       "      <th>QQQ</th>\n",
       "      <td>25.0</td>\n",
       "      <td>3628.299</td>\n",
       "      <td>2017-08-10 14:15</td>\n",
       "      <td>143.500000</td>\n",
       "      <td>3587.5</td>\n",
       "      <td>-40.799</td>\n",
       "      <td>63.074705</td>\n",
       "    </tr>\n",
       "    <tr>\n",
       "      <th>VNQ</th>\n",
       "      <td>15.0</td>\n",
       "      <td>1131.900</td>\n",
       "      <td>2018-12-21 19:30</td>\n",
       "      <td>71.740000</td>\n",
       "      <td>1076.1</td>\n",
       "      <td>-55.800</td>\n",
       "      <td>18.919774</td>\n",
       "    </tr>\n",
       "    <tr>\n",
       "      <th>DLR</th>\n",
       "      <td>10.0</td>\n",
       "      <td>1067.772</td>\n",
       "      <td>2018-12-21 19:29</td>\n",
       "      <td>102.410000</td>\n",
       "      <td>1024.1</td>\n",
       "      <td>-43.672</td>\n",
       "      <td>18.005521</td>\n",
       "    </tr>\n",
       "  </tbody>\n",
       "</table>\n",
       "</div>"
      ],
      "text/plain": [
       "        quantity      cost early_purchase_date current_price  current_equity  \\\n",
       "symbol                                                                         \n",
       "QQQ         25.0  3628.299    2017-08-10 14:15    143.500000          3587.5   \n",
       "VNQ         15.0  1131.900    2018-12-21 19:30     71.740000          1076.1   \n",
       "DLR         10.0  1067.772    2018-12-21 19:29    102.410000          1024.1   \n",
       "\n",
       "        profit  equity_ratio  \n",
       "symbol                        \n",
       "QQQ    -40.799     63.074705  \n",
       "VNQ    -55.800     18.919774  \n",
       "DLR    -43.672     18.005521  "
      ]
     },
     "execution_count": 14,
     "metadata": {},
     "output_type": "execute_result"
    }
   ],
   "source": [
    "print('Total Equity:'+str(total_equity))\n",
    "order_profit.sort_values(by=['equity_ratio'], ascending=False)"
   ]
  },
  {
   "cell_type": "markdown",
   "metadata": {},
   "source": [
    "### Export data as CSV"
   ]
  },
  {
   "cell_type": "code",
   "execution_count": 15,
   "metadata": {},
   "outputs": [],
   "source": [
    "order_profit.to_csv('order_profit.csv', encoding='utf-8', index=True)"
   ]
  }
 ],
 "metadata": {
  "kernelspec": {
   "display_name": "Python 3",
   "language": "python",
   "name": "python3"
  },
  "language_info": {
   "codemirror_mode": {
    "name": "ipython",
    "version": 3
   },
   "file_extension": ".py",
   "mimetype": "text/x-python",
   "name": "python",
   "nbconvert_exporter": "python",
   "pygments_lexer": "ipython3",
   "version": "3.6.6"
  }
 },
 "nbformat": 4,
 "nbformat_minor": 2
}

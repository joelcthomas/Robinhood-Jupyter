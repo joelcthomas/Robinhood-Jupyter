{
 "cells": [
  {
   "cell_type": "markdown",
   "metadata": {},
   "source": [
    "## Robinhood Order History\n",
    "Parse robinhood orders API response, flatten to get list of all orders and enrich by adding stock symbol and name"
   ]
  },
  {
   "cell_type": "code",
   "execution_count": 1,
   "metadata": {},
   "outputs": [],
   "source": [
    "import pandas as pd\n",
    "import urllib.request, json"
   ]
  },
  {
   "cell_type": "code",
   "execution_count": 2,
   "metadata": {},
   "outputs": [],
   "source": [
    "orders = pd.read_json('orders_sample.json', orient='columns')\n",
    "orders = orders['results']"
   ]
  },
  {
   "cell_type": "code",
   "execution_count": 3,
   "metadata": {},
   "outputs": [
    {
     "data": {
      "text/plain": [
       "0    {'updated_at': '2018-12-21T19:31:18.339622Z', ...\n",
       "1    {'updated_at': '2018-12-21T19:30:23.297759Z', ...\n",
       "2    {'updated_at': '2018-12-21T19:29:06.588381Z', ...\n",
       "3    {'updated_at': '2017-08-10T14:15:46.907458Z', ...\n",
       "4    {'updated_at': '2017-10-19T14:12:55.200328Z', ...\n",
       "5    {'updated_at': '2017-08-10T14:19:23.318570Z', ...\n",
       "Name: results, dtype: object"
      ]
     },
     "execution_count": 3,
     "metadata": {},
     "output_type": "execute_result"
    }
   ],
   "source": [
    "orders"
   ]
  },
  {
   "cell_type": "code",
   "execution_count": 4,
   "metadata": {},
   "outputs": [
    {
     "data": {
      "text/html": [
       "<div>\n",
       "<style scoped>\n",
       "    .dataframe tbody tr th:only-of-type {\n",
       "        vertical-align: middle;\n",
       "    }\n",
       "\n",
       "    .dataframe tbody tr th {\n",
       "        vertical-align: top;\n",
       "    }\n",
       "\n",
       "    .dataframe thead th {\n",
       "        text-align: right;\n",
       "    }\n",
       "</style>\n",
       "<table border=\"1\" class=\"dataframe\">\n",
       "  <thead>\n",
       "    <tr style=\"text-align: right;\">\n",
       "      <th></th>\n",
       "      <th>id</th>\n",
       "      <th>price</th>\n",
       "      <th>quantity</th>\n",
       "      <th>settlement_date</th>\n",
       "      <th>timestamp</th>\n",
       "      <th>instrument</th>\n",
       "      <th>side</th>\n",
       "    </tr>\n",
       "  </thead>\n",
       "  <tbody>\n",
       "    <tr>\n",
       "      <th>0</th>\n",
       "      <td>12d7sfc5-4f40-4c02-be91-fc5260765af7</td>\n",
       "      <td>149.19990000</td>\n",
       "      <td>10.00000</td>\n",
       "      <td>2018-12-26</td>\n",
       "      <td>2018-12-21T19:31:18.099000Z</td>\n",
       "      <td>https://api.robinhood.com/instruments/1790dd4f...</td>\n",
       "      <td>buy</td>\n",
       "    </tr>\n",
       "    <tr>\n",
       "      <th>1</th>\n",
       "      <td>6d3f9f83-c62d-4da1-8321-40804bc4cc3a</td>\n",
       "      <td>75.46000000</td>\n",
       "      <td>15.00000</td>\n",
       "      <td>2018-12-26</td>\n",
       "      <td>2018-12-21T19:30:23.072000Z</td>\n",
       "      <td>https://api.robinhood.com/instruments/e6a6e495...</td>\n",
       "      <td>buy</td>\n",
       "    </tr>\n",
       "    <tr>\n",
       "      <th>2</th>\n",
       "      <td>87426fee-234b-4760-b50c-8539a8b58464</td>\n",
       "      <td>106.77720000</td>\n",
       "      <td>10.00000</td>\n",
       "      <td>2018-12-26</td>\n",
       "      <td>2018-12-21T19:29:06.327000Z</td>\n",
       "      <td>https://api.robinhood.com/instruments/7fcf5e7b...</td>\n",
       "      <td>buy</td>\n",
       "    </tr>\n",
       "    <tr>\n",
       "      <th>3</th>\n",
       "      <td>e39b50f4-3aea-4235-8459-ff082a5af70d</td>\n",
       "      <td>142.42000000</td>\n",
       "      <td>15.00000</td>\n",
       "      <td>2017-08-15</td>\n",
       "      <td>2017-08-10T14:15:40.820000Z</td>\n",
       "      <td>https://api.robinhood.com/instruments/1790dd4f...</td>\n",
       "      <td>buy</td>\n",
       "    </tr>\n",
       "    <tr>\n",
       "      <th>4</th>\n",
       "      <td>65695025-251b-43d9-8aaf-bbd899a4623e</td>\n",
       "      <td>26.31100000</td>\n",
       "      <td>75.00000</td>\n",
       "      <td>2017-10-23</td>\n",
       "      <td>2017-10-19T14:12:55.165000Z</td>\n",
       "      <td>https://api.robinhood.com/instruments/0dd811b3...</td>\n",
       "      <td>sell</td>\n",
       "    </tr>\n",
       "    <tr>\n",
       "      <th>5</th>\n",
       "      <td>3f5d00e3-3295-43f9-bbc6-2f053164901f</td>\n",
       "      <td>24.39900000</td>\n",
       "      <td>75.00000</td>\n",
       "      <td>2017-08-15</td>\n",
       "      <td>2017-08-10T14:19:23.285000Z</td>\n",
       "      <td>https://api.robinhood.com/instruments/0dd811b3...</td>\n",
       "      <td>buy</td>\n",
       "    </tr>\n",
       "  </tbody>\n",
       "</table>\n",
       "</div>"
      ],
      "text/plain": [
       "                                     id         price  quantity  \\\n",
       "0  12d7sfc5-4f40-4c02-be91-fc5260765af7  149.19990000  10.00000   \n",
       "1  6d3f9f83-c62d-4da1-8321-40804bc4cc3a   75.46000000  15.00000   \n",
       "2  87426fee-234b-4760-b50c-8539a8b58464  106.77720000  10.00000   \n",
       "3  e39b50f4-3aea-4235-8459-ff082a5af70d  142.42000000  15.00000   \n",
       "4  65695025-251b-43d9-8aaf-bbd899a4623e   26.31100000  75.00000   \n",
       "5  3f5d00e3-3295-43f9-bbc6-2f053164901f   24.39900000  75.00000   \n",
       "\n",
       "  settlement_date                    timestamp  \\\n",
       "0      2018-12-26  2018-12-21T19:31:18.099000Z   \n",
       "1      2018-12-26  2018-12-21T19:30:23.072000Z   \n",
       "2      2018-12-26  2018-12-21T19:29:06.327000Z   \n",
       "3      2017-08-15  2017-08-10T14:15:40.820000Z   \n",
       "4      2017-10-23  2017-10-19T14:12:55.165000Z   \n",
       "5      2017-08-15  2017-08-10T14:19:23.285000Z   \n",
       "\n",
       "                                          instrument  side  \n",
       "0  https://api.robinhood.com/instruments/1790dd4f...   buy  \n",
       "1  https://api.robinhood.com/instruments/e6a6e495...   buy  \n",
       "2  https://api.robinhood.com/instruments/7fcf5e7b...   buy  \n",
       "3  https://api.robinhood.com/instruments/1790dd4f...   buy  \n",
       "4  https://api.robinhood.com/instruments/0dd811b3...  sell  \n",
       "5  https://api.robinhood.com/instruments/0dd811b3...   buy  "
      ]
     },
     "execution_count": 4,
     "metadata": {},
     "output_type": "execute_result"
    }
   ],
   "source": [
    "orders_normalize = pd.io.json.json_normalize(orders, record_path=['executions'], \n",
    "                                        meta=['instrument', 'side'], \n",
    "                                        sep='_')\n",
    "orders_normalize"
   ]
  },
  {
   "cell_type": "markdown",
   "metadata": {},
   "source": [
    "### Get instrument name and symbol by querying instrument API"
   ]
  },
  {
   "cell_type": "code",
   "execution_count": 5,
   "metadata": {},
   "outputs": [
    {
     "data": {
      "text/html": [
       "<div>\n",
       "<style scoped>\n",
       "    .dataframe tbody tr th:only-of-type {\n",
       "        vertical-align: middle;\n",
       "    }\n",
       "\n",
       "    .dataframe tbody tr th {\n",
       "        vertical-align: top;\n",
       "    }\n",
       "\n",
       "    .dataframe thead th {\n",
       "        text-align: right;\n",
       "    }\n",
       "</style>\n",
       "<table border=\"1\" class=\"dataframe\">\n",
       "  <thead>\n",
       "    <tr style=\"text-align: right;\">\n",
       "      <th></th>\n",
       "      <th>instrument</th>\n",
       "    </tr>\n",
       "  </thead>\n",
       "  <tbody>\n",
       "    <tr>\n",
       "      <th>0</th>\n",
       "      <td>https://api.robinhood.com/instruments/1790dd4f...</td>\n",
       "    </tr>\n",
       "    <tr>\n",
       "      <th>1</th>\n",
       "      <td>https://api.robinhood.com/instruments/e6a6e495...</td>\n",
       "    </tr>\n",
       "    <tr>\n",
       "      <th>2</th>\n",
       "      <td>https://api.robinhood.com/instruments/7fcf5e7b...</td>\n",
       "    </tr>\n",
       "    <tr>\n",
       "      <th>3</th>\n",
       "      <td>https://api.robinhood.com/instruments/0dd811b3...</td>\n",
       "    </tr>\n",
       "  </tbody>\n",
       "</table>\n",
       "</div>"
      ],
      "text/plain": [
       "                                          instrument\n",
       "0  https://api.robinhood.com/instruments/1790dd4f...\n",
       "1  https://api.robinhood.com/instruments/e6a6e495...\n",
       "2  https://api.robinhood.com/instruments/7fcf5e7b...\n",
       "3  https://api.robinhood.com/instruments/0dd811b3..."
      ]
     },
     "execution_count": 5,
     "metadata": {},
     "output_type": "execute_result"
    }
   ],
   "source": [
    "unique_instruments = pd.DataFrame(orders_normalize['instrument'].unique(), columns=['instrument'])\n",
    "unique_instruments"
   ]
  },
  {
   "cell_type": "code",
   "execution_count": 6,
   "metadata": {},
   "outputs": [],
   "source": [
    "def get_instrument_name(instrument_url):\n",
    "    with urllib.request.urlopen(instrument_url) as url:\n",
    "        data = json.loads(url.read().decode())\n",
    "        return data['simple_name'], data['symbol']"
   ]
  },
  {
   "cell_type": "code",
   "execution_count": 7,
   "metadata": {},
   "outputs": [
    {
     "data": {
      "text/html": [
       "<div>\n",
       "<style scoped>\n",
       "    .dataframe tbody tr th:only-of-type {\n",
       "        vertical-align: middle;\n",
       "    }\n",
       "\n",
       "    .dataframe tbody tr th {\n",
       "        vertical-align: top;\n",
       "    }\n",
       "\n",
       "    .dataframe thead th {\n",
       "        text-align: right;\n",
       "    }\n",
       "</style>\n",
       "<table border=\"1\" class=\"dataframe\">\n",
       "  <thead>\n",
       "    <tr style=\"text-align: right;\">\n",
       "      <th></th>\n",
       "      <th>instrument</th>\n",
       "      <th>name</th>\n",
       "      <th>symbol</th>\n",
       "    </tr>\n",
       "  </thead>\n",
       "  <tbody>\n",
       "    <tr>\n",
       "      <th>0</th>\n",
       "      <td>https://api.robinhood.com/instruments/1790dd4f...</td>\n",
       "      <td>PowerShares QQQ</td>\n",
       "      <td>QQQ</td>\n",
       "    </tr>\n",
       "    <tr>\n",
       "      <th>1</th>\n",
       "      <td>https://api.robinhood.com/instruments/e6a6e495...</td>\n",
       "      <td>Vanguard US REIT fund</td>\n",
       "      <td>VNQ</td>\n",
       "    </tr>\n",
       "    <tr>\n",
       "      <th>2</th>\n",
       "      <td>https://api.robinhood.com/instruments/7fcf5e7b...</td>\n",
       "      <td>Digital Realty Trust</td>\n",
       "      <td>DLR</td>\n",
       "    </tr>\n",
       "    <tr>\n",
       "      <th>3</th>\n",
       "      <td>https://api.robinhood.com/instruments/0dd811b3...</td>\n",
       "      <td>Bank of America</td>\n",
       "      <td>BAC</td>\n",
       "    </tr>\n",
       "  </tbody>\n",
       "</table>\n",
       "</div>"
      ],
      "text/plain": [
       "                                          instrument                   name  \\\n",
       "0  https://api.robinhood.com/instruments/1790dd4f...        PowerShares QQQ   \n",
       "1  https://api.robinhood.com/instruments/e6a6e495...  Vanguard US REIT fund   \n",
       "2  https://api.robinhood.com/instruments/7fcf5e7b...   Digital Realty Trust   \n",
       "3  https://api.robinhood.com/instruments/0dd811b3...        Bank of America   \n",
       "\n",
       "  symbol  \n",
       "0    QQQ  \n",
       "1    VNQ  \n",
       "2    DLR  \n",
       "3    BAC  "
      ]
     },
     "execution_count": 7,
     "metadata": {},
     "output_type": "execute_result"
    }
   ],
   "source": [
    "unique_instruments[['name', 'symbol']] = unique_instruments.apply(lambda x:get_instrument_name(x['instrument']), axis=1, result_type=\"expand\")\n",
    "unique_instruments"
   ]
  },
  {
   "cell_type": "markdown",
   "metadata": {},
   "source": [
    "### All orders along with name & symbol"
   ]
  },
  {
   "cell_type": "code",
   "execution_count": 8,
   "metadata": {},
   "outputs": [
    {
     "data": {
      "text/html": [
       "<div>\n",
       "<style scoped>\n",
       "    .dataframe tbody tr th:only-of-type {\n",
       "        vertical-align: middle;\n",
       "    }\n",
       "\n",
       "    .dataframe tbody tr th {\n",
       "        vertical-align: top;\n",
       "    }\n",
       "\n",
       "    .dataframe thead th {\n",
       "        text-align: right;\n",
       "    }\n",
       "</style>\n",
       "<table border=\"1\" class=\"dataframe\">\n",
       "  <thead>\n",
       "    <tr style=\"text-align: right;\">\n",
       "      <th></th>\n",
       "      <th>symbol</th>\n",
       "      <th>name</th>\n",
       "      <th>price</th>\n",
       "      <th>quantity</th>\n",
       "      <th>side</th>\n",
       "      <th>purchase_date</th>\n",
       "      <th>settlement_date</th>\n",
       "    </tr>\n",
       "  </thead>\n",
       "  <tbody>\n",
       "    <tr>\n",
       "      <th>0</th>\n",
       "      <td>QQQ</td>\n",
       "      <td>PowerShares QQQ</td>\n",
       "      <td>149.19990000</td>\n",
       "      <td>10.00000</td>\n",
       "      <td>buy</td>\n",
       "      <td>2018-12-21 19:31</td>\n",
       "      <td>2018-12-26</td>\n",
       "    </tr>\n",
       "    <tr>\n",
       "      <th>1</th>\n",
       "      <td>QQQ</td>\n",
       "      <td>PowerShares QQQ</td>\n",
       "      <td>142.42000000</td>\n",
       "      <td>15.00000</td>\n",
       "      <td>buy</td>\n",
       "      <td>2017-08-10 14:15</td>\n",
       "      <td>2017-08-15</td>\n",
       "    </tr>\n",
       "    <tr>\n",
       "      <th>2</th>\n",
       "      <td>VNQ</td>\n",
       "      <td>Vanguard US REIT fund</td>\n",
       "      <td>75.46000000</td>\n",
       "      <td>15.00000</td>\n",
       "      <td>buy</td>\n",
       "      <td>2018-12-21 19:30</td>\n",
       "      <td>2018-12-26</td>\n",
       "    </tr>\n",
       "    <tr>\n",
       "      <th>3</th>\n",
       "      <td>DLR</td>\n",
       "      <td>Digital Realty Trust</td>\n",
       "      <td>106.77720000</td>\n",
       "      <td>10.00000</td>\n",
       "      <td>buy</td>\n",
       "      <td>2018-12-21 19:29</td>\n",
       "      <td>2018-12-26</td>\n",
       "    </tr>\n",
       "    <tr>\n",
       "      <th>4</th>\n",
       "      <td>BAC</td>\n",
       "      <td>Bank of America</td>\n",
       "      <td>26.31100000</td>\n",
       "      <td>75.00000</td>\n",
       "      <td>sell</td>\n",
       "      <td>2017-10-19 14:12</td>\n",
       "      <td>2017-10-23</td>\n",
       "    </tr>\n",
       "    <tr>\n",
       "      <th>5</th>\n",
       "      <td>BAC</td>\n",
       "      <td>Bank of America</td>\n",
       "      <td>24.39900000</td>\n",
       "      <td>75.00000</td>\n",
       "      <td>buy</td>\n",
       "      <td>2017-08-10 14:19</td>\n",
       "      <td>2017-08-15</td>\n",
       "    </tr>\n",
       "  </tbody>\n",
       "</table>\n",
       "</div>"
      ],
      "text/plain": [
       "  symbol                   name         price  quantity  side  \\\n",
       "0    QQQ        PowerShares QQQ  149.19990000  10.00000   buy   \n",
       "1    QQQ        PowerShares QQQ  142.42000000  15.00000   buy   \n",
       "2    VNQ  Vanguard US REIT fund   75.46000000  15.00000   buy   \n",
       "3    DLR   Digital Realty Trust  106.77720000  10.00000   buy   \n",
       "4    BAC        Bank of America   26.31100000  75.00000  sell   \n",
       "5    BAC        Bank of America   24.39900000  75.00000   buy   \n",
       "\n",
       "      purchase_date settlement_date  \n",
       "0  2018-12-21 19:31      2018-12-26  \n",
       "1  2017-08-10 14:15      2017-08-15  \n",
       "2  2018-12-21 19:30      2018-12-26  \n",
       "3  2018-12-21 19:29      2018-12-26  \n",
       "4  2017-10-19 14:12      2017-10-23  \n",
       "5  2017-08-10 14:19      2017-08-15  "
      ]
     },
     "execution_count": 8,
     "metadata": {},
     "output_type": "execute_result"
    }
   ],
   "source": [
    "all_orders = pd.merge(orders_normalize, unique_instruments, how='inner', on='instrument')\n",
    "all_orders = all_orders[['symbol','name','price','quantity','side','timestamp','settlement_date']]\n",
    "all_orders['timestamp'] = pd.to_datetime(all_orders['timestamp']).dt.strftime('%Y-%m-%d %H:%M')\n",
    "all_orders.rename(columns={'timestamp':'purchase_date'}, inplace=True)\n",
    "all_orders"
   ]
  },
  {
   "cell_type": "markdown",
   "metadata": {},
   "source": [
    "### Export data as CSV"
   ]
  },
  {
   "cell_type": "code",
   "execution_count": 9,
   "metadata": {},
   "outputs": [],
   "source": [
    "all_orders.to_csv('orders.csv', encoding='utf-8', index=False)"
   ]
  }
 ],
 "metadata": {
  "kernelspec": {
   "display_name": "Python 3",
   "language": "python",
   "name": "python3"
  },
  "language_info": {
   "codemirror_mode": {
    "name": "ipython",
    "version": 3
   },
   "file_extension": ".py",
   "mimetype": "text/x-python",
   "name": "python",
   "nbconvert_exporter": "python",
   "pygments_lexer": "ipython3",
   "version": "3.6.6"
  }
 },
 "nbformat": 4,
 "nbformat_minor": 2
}
